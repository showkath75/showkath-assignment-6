{
 "cells": [
  {
   "cell_type": "code",
   "execution_count": 1,
   "id": "090c1fe8",
   "metadata": {},
   "outputs": [],
   "source": [
    "friend_names = [\"ravi shanker\", \"sai vadhan\", \"ayman\", \"sriram\", \"bharath\", \"mohsin\", \"yashwanth\", \"hari haran\", \"pradeep\", \"baig\"]"
   ]
  },
  {
   "cell_type": "code",
   "execution_count": 2,
   "id": "0ecf623e",
   "metadata": {},
   "outputs": [
    {
     "name": "stdout",
     "output_type": "stream",
     "text": [
      "my friend name is : ravi shanker\n",
      "my friend name is : sai vadhan\n",
      "my friend name is : ayman\n",
      "my friend name is : sriram\n",
      "my friend name is : bharath\n",
      "my friend name is : mohsin\n",
      "my friend name is : yashwanth\n",
      "my friend name is : hari haran\n",
      "my friend name is : pradeep\n",
      "my friend name is : baig\n"
     ]
    }
   ],
   "source": [
    "for x in friend_names:\n",
    "    print (\"my friend name is :\",x)"
   ]
  },
  {
   "cell_type": "code",
   "execution_count": 3,
   "id": "3b77aad5",
   "metadata": {},
   "outputs": [],
   "source": [
    "family_members = [\"Shamsheer ali\",\"habibun\", \"Rahimani\", \"Sajida\",\"Waheed\" \"rabbani\",\"Noorjahan\",\"Mastan\", \"Shabbir\", \"vajida\"]"
   ]
  },
  {
   "cell_type": "code",
   "execution_count": 4,
   "id": "9ef93014",
   "metadata": {},
   "outputs": [
    {
     "name": "stdout",
     "output_type": "stream",
     "text": [
      "Shamsheer ali\n",
      "habibun\n",
      "Rahimani\n",
      "Sajida\n",
      "Waheedrabbani\n",
      "Noorjahan\n",
      "Mastan\n",
      "Shabbir\n",
      "vajida\n"
     ]
    }
   ],
   "source": [
    "for y in family_members:\n",
    "    print(y)\n",
    "    "
   ]
  },
  {
   "cell_type": "code",
   "execution_count": 5,
   "id": "8fba13ee",
   "metadata": {},
   "outputs": [],
   "source": [
    "food_names= [\"white rice\",\"dal\",\"brinjal fry\",\"ladys finger fry\",\"capsicam curry\", \"paneer curry\",\"vej palav\",\"sambar\", \"rasam\", \"poornam\"]"
   ]
  },
  {
   "cell_type": "code",
   "execution_count": 6,
   "id": "37c83c86",
   "metadata": {},
   "outputs": [
    {
     "name": "stdout",
     "output_type": "stream",
     "text": [
      "white rice\n",
      "dal\n",
      "brinjal fry\n",
      "ladys finger fry\n",
      "capsicam curry\n",
      "paneer curry\n",
      "vej palav\n",
      "sambar\n",
      "rasam\n",
      "poornam\n"
     ]
    }
   ],
   "source": [
    "for x in food_names:\n",
    "    print(x)"
   ]
  },
  {
   "cell_type": "code",
   "execution_count": 9,
   "id": "e39c07b2",
   "metadata": {},
   "outputs": [],
   "source": [
    "food_names= (\"mutton biryani\",\"mutton haleem\",\"chicken fry\",\"chicken dum biryani\",\"mutton keema\",\"chicken pakoda\",\"chicken paneer curry\",\"mutton soup\",\"mutton kabab\",\"chicken shawarma\")"
   ]
  },
  {
   "cell_type": "code",
   "execution_count": 11,
   "id": "ed8ad5f5",
   "metadata": {},
   "outputs": [
    {
     "name": "stdout",
     "output_type": "stream",
     "text": [
      "mutton biryani\n",
      "mutton haleem\n",
      "chicken fry\n",
      "chicken dum biryani\n",
      "mutton keema\n",
      "chicken pakoda\n",
      "chicken paneer curry\n",
      "mutton soup\n",
      "mutton kabab\n",
      "chicken shawarma\n"
     ]
    }
   ],
   "source": [
    "for y in food_names:\n",
    "    print(y)"
   ]
  },
  {
   "cell_type": "code",
   "execution_count": 12,
   "id": "fe0f4768",
   "metadata": {},
   "outputs": [],
   "source": [
    "colour_names={\"red\",\"blue\",\"green\",\"white\",\"yellow\",\"orange\", \"pink\", \"black\", \"brown\",\"violet\"}"
   ]
  },
  {
   "cell_type": "code",
   "execution_count": 13,
   "id": "20136d26",
   "metadata": {},
   "outputs": [
    {
     "name": "stdout",
     "output_type": "stream",
     "text": [
      "violet\n",
      "brown\n",
      "green\n",
      "pink\n",
      "orange\n",
      "white\n",
      "red\n",
      "black\n",
      "yellow\n",
      "blue\n"
     ]
    }
   ],
   "source": [
    "for x in colour_names:\n",
    "    print(x)"
   ]
  },
  {
   "cell_type": "code",
   "execution_count": 14,
   "id": "fb112c60",
   "metadata": {},
   "outputs": [],
   "source": [
    "month_names= [\"january\",\"febuary\", \"march\", \"april\",\"may\", \"june\", \"july\", \"august\", \"september\",\"october\", \"november\", \"december\"]"
   ]
  },
  {
   "cell_type": "code",
   "execution_count": 15,
   "id": "2c03844c",
   "metadata": {},
   "outputs": [
    {
     "name": "stdout",
     "output_type": "stream",
     "text": [
      "january\n",
      "febuary\n",
      "march\n",
      "april\n",
      "may\n",
      "june\n",
      "july\n",
      "august\n",
      "september\n",
      "october\n",
      "november\n",
      "december\n"
     ]
    }
   ],
   "source": [
    "for x in month_names:\n",
    "    print(x)"
   ]
  },
  {
   "cell_type": "code",
   "execution_count": null,
   "id": "3d2ab7c5",
   "metadata": {},
   "outputs": [],
   "source": [
    "#creating a 9th table"
   ]
  },
  {
   "cell_type": "code",
   "execution_count": 18,
   "id": "8c124729",
   "metadata": {},
   "outputs": [
    {
     "name": "stdout",
     "output_type": "stream",
     "text": [
      "0\n",
      "9\n",
      "18\n",
      "27\n",
      "36\n",
      "45\n",
      "54\n",
      "63\n",
      "72\n",
      "81\n",
      "90\n"
     ]
    }
   ],
   "source": [
    "for x in range(0,91,9):\n",
    "    print(x)"
   ]
  },
  {
   "cell_type": "code",
   "execution_count": null,
   "id": "e8bdaf36",
   "metadata": {},
   "outputs": [],
   "source": [
    "#creating a 12th table"
   ]
  },
  {
   "cell_type": "code",
   "execution_count": 19,
   "id": "0372d79e",
   "metadata": {},
   "outputs": [
    {
     "name": "stdout",
     "output_type": "stream",
     "text": [
      "0\n",
      "12\n",
      "24\n",
      "36\n",
      "48\n",
      "60\n",
      "72\n",
      "84\n",
      "96\n",
      "108\n",
      "120\n"
     ]
    }
   ],
   "source": [
    "for p in range(0,121,12):\n",
    "    print(p)"
   ]
  },
  {
   "cell_type": "code",
   "execution_count": null,
   "id": "72f91fc9",
   "metadata": {},
   "outputs": [],
   "source": []
  }
 ],
 "metadata": {
  "kernelspec": {
   "display_name": "Python 3 (ipykernel)",
   "language": "python",
   "name": "python3"
  },
  "language_info": {
   "codemirror_mode": {
    "name": "ipython",
    "version": 3
   },
   "file_extension": ".py",
   "mimetype": "text/x-python",
   "name": "python",
   "nbconvert_exporter": "python",
   "pygments_lexer": "ipython3",
   "version": "3.10.9"
  }
 },
 "nbformat": 4,
 "nbformat_minor": 5
}
